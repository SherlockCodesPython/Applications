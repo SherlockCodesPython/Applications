{
 "cells": [
  {
   "cell_type": "code",
   "execution_count": 4,
   "id": "dc16c531",
   "metadata": {},
   "outputs": [],
   "source": [
    "import pyqrcode\n",
    "import png\n",
    "from pyqrcode import QRCode\n",
    "  \n",
    "  \n",
    "# String which represents the QR code\n",
    "s = \"https://passwordreset.microsoftonline.com/\"\n",
    "  \n",
    "# Generate QR code\n",
    "url = pyqrcode.create(s)\n",
    "  \n",
    "# Create and save the svg file naming \"myqr.svg\"\n",
    "url.svg(\"oindrilla.svg\", scale = 8)\n",
    "  \n",
    "# Create and save the png file naming \"myqr.png\"\n",
    "url.png('oindrilla.png', scale = 6)\n"
   ]
  }
 ],
 "metadata": {
  "kernelspec": {
   "display_name": "Python 3.8 (tensorflow)",
   "language": "python",
   "name": "tensorflow"
  },
  "language_info": {
   "codemirror_mode": {
    "name": "ipython",
    "version": 3
   },
   "file_extension": ".py",
   "mimetype": "text/x-python",
   "name": "python",
   "nbconvert_exporter": "python",
   "pygments_lexer": "ipython3",
   "version": "3.8.10"
  }
 },
 "nbformat": 4,
 "nbformat_minor": 5
}
